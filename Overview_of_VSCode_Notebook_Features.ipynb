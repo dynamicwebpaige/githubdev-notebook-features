{
  "cells": [
    {
      "cell_type": "markdown",
      "metadata": {},
      "source": [
        "# 🧰 Being productive with notebooks in `github.dev`"
      ]
    },
    {
      "cell_type": "markdown",
      "metadata": {
        "id": "JyG45Qk3qQLS"
      },
      "source": [
        "# Cells\n",
        "A notebook is composed of a list of cells. Cells contain either explanatory text in markdown format, or executable code and its output. When a cell is selected in VS Code locally or in `github.dev`, it is outlined in blue. Try clicking on a cell to select it!"
      ]
    },
    {
      "cell_type": "markdown",
      "metadata": {
        "id": "KR921S_OQSHG"
      },
      "source": [
        "## Code cells\n",
        "Below is an example of a **code cell**. Once you see the `Pyolite` kernel enabled in the upper right corner of your notebook, click in a cell in your notebook to select it, and then execute the contents in one of the following ways:\n",
        "\n",
        "* Click the **Play icon** in the left gutter of the cell;\n",
        "* Type **Cmd/Ctrl+Enter** to run the cell in place;\n",
        "* Type **Shift+Enter** to run the cell and move focus to the next cell (adding one if none exists); or\n",
        "* Type **Alt+Enter** to run the cell and insert a new code cell immediately below it.\n"
      ]
    },
    {
      "cell_type": "code",
      "execution_count": 1,
      "metadata": {
        "cellView": "both",
        "colab": {
          "height": 35
        },
        "id": "WUtu4316QSHL",
        "outputId": "67bdf0c3-d76f-4226-fc34-a2f2d0eba60b"
      },
      "outputs": [
        {
          "data": {
            "text/plain": [
              "10"
            ]
          },
          "execution_count": 1,
          "metadata": {},
          "output_type": "execute_result"
        }
      ],
      "source": [
        "a = 10\n",
        "a"
      ]
    },
    {
      "cell_type": "markdown",
      "metadata": {
        "id": "Id6tDF1HQSHD"
      },
      "source": [
        "## Markdown cells\n",
        "This is a **markdown cell**. You can **double-click** to edit this cell. \n",
        "\n",
        "You can also add math to text cells using [LaTeX](http://www.latex-project.org/), which will be rendered by [MathJax](https://www.mathjax.org). Just place the statement within a pair of **\\$** signs. \n",
        "\n",
        "As an example, `$\\sqrt{3x-1}+(1+x)^2$` becomes\n",
        "$\\sqrt{3x-1}+(1+x)^2.$\n"
      ]
    },
    {
      "cell_type": "markdown",
      "metadata": {
        "id": "7bqjkGKwQSHW"
      },
      "source": [
        "## Adding and moving cells\n",
        "You can add new cells by using the **+ CODE** and **+ MARKDOWN** buttons that show when you hover between cells. These buttons are also in the toolbar above the notebook where they can be used to add a cell below the currently selected cell.\n",
        "\n",
        "You can move a cell by selecting it and dragging it into a new position.\n",
        "\n",
        "Consecutive cells can be selected by using `Shift` + `Click`-ing on a selection.  "
      ]
    },
    {
      "cell_type": "markdown",
      "metadata": {
        "id": "GOwlZRXEQSHZ"
      },
      "source": [
        "# Executing code with Python\n",
        "VS Code Notebooks are built using the [Jupyter Notebook](https://jupyter.org/) extension. Below are some examples of convenience functions provided."
      ]
    },
    {
      "cell_type": "markdown",
      "metadata": {
        "id": "RVuqWUXPQSHa"
      },
      "source": [
        "Long running python processes can be interrupted. Run the following cell and select **the square in the cell gutter** to stop execution."
      ]
    },
    {
      "cell_type": "code",
      "execution_count": 4,
      "metadata": {
        "cellView": "both",
        "colab": {
          "height": 244
        },
        "id": "d-S-3nYLQSHb",
        "outputId": "38d534fc-8b61-4f9f-d731-74b23aadb5bc"
      },
      "outputs": [
        {
          "name": "stdout",
          "output_type": "stream",
          "text": [
            "Sleeping\n"
          ]
        },
        {
          "ename": "KeyboardInterrupt",
          "evalue": "",
          "output_type": "error",
          "traceback": [
            "\u001b[0;31m---------------------------------------------------------------------------\u001b[0m",
            "\u001b[0;31mKeyboardInterrupt\u001b[0m                         Traceback (most recent call last)",
            "\u001b[0;32m<ipython-input-4-fb6d98dc021a>\u001b[0m in \u001b[0;36m<module>\u001b[0;34m\u001b[0m\n\u001b[1;32m      1\u001b[0m \u001b[0;32mimport\u001b[0m \u001b[0mtime\u001b[0m\u001b[0;34m\u001b[0m\u001b[0;34m\u001b[0m\u001b[0m\n\u001b[1;32m      2\u001b[0m \u001b[0mprint\u001b[0m\u001b[0;34m(\u001b[0m\u001b[0;34m\"Sleeping\"\u001b[0m\u001b[0;34m)\u001b[0m\u001b[0;34m\u001b[0m\u001b[0;34m\u001b[0m\u001b[0m\n\u001b[0;32m----> 3\u001b[0;31m \u001b[0mtime\u001b[0m\u001b[0;34m.\u001b[0m\u001b[0msleep\u001b[0m\u001b[0;34m(\u001b[0m\u001b[0;36m30\u001b[0m\u001b[0;34m)\u001b[0m \u001b[0;31m# sleep for a while; interrupt me!\u001b[0m\u001b[0;34m\u001b[0m\u001b[0;34m\u001b[0m\u001b[0m\n\u001b[0m\u001b[1;32m      4\u001b[0m \u001b[0mprint\u001b[0m\u001b[0;34m(\u001b[0m\u001b[0;34m\"Done Sleeping\"\u001b[0m\u001b[0;34m)\u001b[0m\u001b[0;34m\u001b[0m\u001b[0;34m\u001b[0m\u001b[0m\n",
            "\u001b[0;31mKeyboardInterrupt\u001b[0m: "
          ]
        }
      ],
      "source": [
        "import time\n",
        "print(\"Sleeping\")\n",
        "print(\"Done Sleeping\")"
      ]
    },
    {
      "cell_type": "markdown",
      "metadata": {
        "id": "qM4myQGfQboQ"
      },
      "source": [
        "## Magics\n",
        "VS Code Notebooks share the notion of magics from Jupyter. There are shorthand annotations that change how a cell's text is executed. To learn more, see [Jupyter's magics page](http://nbviewer.jupyter.org/github/ipython/ipython/blob/1.x/examples/notebooks/Cell%20Magics.ipynb). \n"
      ]
    },
    {
      "cell_type": "code",
      "execution_count": null,
      "metadata": {
        "cellView": "both",
        "colab": {
          "height": 38
        },
        "id": "odfM-_GxWbCy",
        "outputId": "3f059816-dc25-4670-ca46-e2ee50a9490e"
      },
      "outputs": [
        {
          "data": {
            "text/html": [
              "<marquee style='width: 30%; color: yellow;'><b>Thank goodness, we reached Friday!</b></marquee>\n"
            ],
            "text/plain": [
              "<IPython.core.display.HTML object>"
            ]
          },
          "metadata": {},
          "output_type": "display_data"
        }
      ],
      "source": [
        "%%html\n",
        "<marquee style='width: 30%; color: yellow;'><b>Thank goodness, we reached Friday!</b></marquee>"
      ]
    },
    {
      "cell_type": "code",
      "execution_count": null,
      "metadata": {
        "colab": {
          "height": 221
        },
        "id": "_YrTcK7k22Fp",
        "outputId": "bb3a69dd-49b7-4a6c-966a-64f77007a525"
      },
      "outputs": [
        {
          "data": {
            "text/html": [
              "<svg xmlns=\"http://www.w3.org/2000/svg\" viewBox=\"0 0 450 400\" width=\"200\" height=\"200\">\n",
              "  <rect x=\"80\" y=\"60\" width=\"250\" height=\"250\" rx=\"20\" style=\"fill:orange; stroke:black; fill-opacity:0.7\" />\n",
              "  <rect x=\"180\" y=\"110\" width=\"250\" height=\"250\" rx=\"40\" style=\"fill:pink; stroke:black; fill-opacity:0.5;\" />\n",
              "</svg>\n"
            ],
            "text/plain": [
              "<IPython.core.display.HTML object>"
            ]
          },
          "metadata": {},
          "output_type": "display_data"
        }
      ],
      "source": [
        "%%html\n",
        "<svg xmlns=\"http://www.w3.org/2000/svg\" viewBox=\"0 0 450 400\" width=\"200\" height=\"200\">\n",
        "  <rect x=\"80\" y=\"60\" width=\"250\" height=\"250\" rx=\"20\" style=\"fill:orange; stroke:black; fill-opacity:0.7\" />\n",
        "  <rect x=\"180\" y=\"110\" width=\"250\" height=\"250\" rx=\"40\" style=\"fill:pink; stroke:black; fill-opacity:0.5;\" />\n",
        "</svg>"
      ]
    },
    {
      "cell_type": "markdown",
      "metadata": {
        "id": "7cRnhv_7N4Pa"
      },
      "source": [
        "## Rich, interactive outputs\n",
        "Until now all of the generated outputs have been text, but they can be more interesting, like the chart below. "
      ]
    },
    {
      "cell_type": "code",
      "execution_count": null,
      "metadata": {
        "colab": {
          "height": 371
        },
        "id": "JVXnTqyE9RET",
        "outputId": "a20709c6-9773-49e9-bc49-1e8468ea990b"
      },
      "outputs": [
        {
          "data": {
            "image/png": "[encoded data removed]",
            "text/plain": [
              "<matplotlib.figure.Figure at 0x5636f516d150>"
            ]
          },
          "metadata": {},
          "output_type": "display_data"
        }
      ],
      "source": [
        "import numpy as np\n",
        "from matplotlib import pyplot as plt\n",
        "\n",
        "ys = 200 + np.random.randn(100)\n",
        "x = [x for x in range(len(ys))]\n",
        "\n",
        "plt.plot(x, ys, '-')\n",
        "plt.fill_between(x, ys, 195, where=(ys > 195), facecolor='g', alpha=0.6)\n",
        "\n",
        "plt.title(\"Fills and Alpha Example\")\n",
        "plt.show()"
      ]
    },
    {
      "cell_type": "markdown",
      "metadata": {
        "id": "TYTBdJXxfqiJ"
      },
      "source": [
        "## Exception Formatting"
      ]
    },
    {
      "cell_type": "markdown",
      "metadata": {
        "id": "4bqAVK-aQSHx"
      },
      "source": [
        "Exceptions are formatted nicely in [github.dev]() outputs:"
      ]
    },
    {
      "cell_type": "code",
      "execution_count": null,
      "metadata": {
        "cellView": "both",
        "id": "CrJf1PEmQSHx",
        "outputId": "a8c7a413-a1e6-49f1-c7b5-58986eff5047"
      },
      "outputs": [
        {
          "ename": "ZeroDivisionError",
          "evalue": "",
          "output_type": "error",
          "traceback": [
            "\u001b[1;31m---------------------------------------------------------------------------\u001b[0m\n",
            "\u001b[1;31mZeroDivisionError\u001b[0m                         Traceback (most recent call last)\n",
            "\u001b[1;32m<ipython-input-14-dc39888fd1d2>\u001b[0m in \u001b[0;36m<module>\u001b[1;34m()\u001b[0m\n",
            "\u001b[0;32m      1\u001b[0m \u001b[0mx\u001b[0m \u001b[1;33m=\u001b[0m \u001b[1;36m1\u001b[0m\u001b[1;33m\u001b[0m\u001b[0m\n",
            "\u001b[0;32m      2\u001b[0m \u001b[0my\u001b[0m \u001b[1;33m=\u001b[0m \u001b[1;36m4\u001b[0m\u001b[1;33m\u001b[0m\u001b[0m\n",
            "\u001b[1;32m----> 3\u001b[1;33m \u001b[0mz\u001b[0m \u001b[1;33m=\u001b[0m \u001b[0my\u001b[0m\u001b[1;33m/\u001b[0m\u001b[1;33m(\u001b[0m\u001b[1;36m1\u001b[0m\u001b[1;33m-\u001b[0m\u001b[0mx\u001b[0m\u001b[1;33m)\u001b[0m\u001b[1;33m\u001b[0m\u001b[0m\n",
            "\u001b[0m\n",
            "\u001b[1;31mZeroDivisionError\u001b[0m: integer division or modulo by zero"
          ]
        }
      ],
      "source": [
        "x = 1\n",
        "y = 4\n",
        "z = y/(1-x)"
      ]
    },
    {
      "cell_type": "markdown",
      "metadata": {
        "id": "aro-UJgUQSH1"
      },
      "source": [
        "# 🤖 Integration with Github\n",
        "\n",
        "[github.dev] is fully-integrated with Github. It allows you to share, comment, and collaborate on the same code with multiple people:\n",
        "\n",
        "Work in progress; topics to include:\n",
        "* Recommended extensions.\n",
        "* Reviewing pull requests for notebooks.\n",
        "* Exporting notebooks as HTML with Github Actions."
      ]
    },
    {
      "cell_type": "markdown",
      "metadata": {},
      "source": [
        "# 🔪 Papercuts when working with Pyodide and `github.dev`"
      ]
    },
    {
      "cell_type": "markdown",
      "metadata": {
        "id": "Wej_mEyXQSHc"
      },
      "source": [
        "## System aliases\n",
        "\n",
        "Jupyter includes shortcuts for common operations, such as `ls`. In `github.dev`, this functionality will fail to execute, as you do not have access to a terminal. If you use VS Code notebooks locally, or in Codespaces, this cell will work as intended."
      ]
    },
    {
      "cell_type": "code",
      "execution_count": null,
      "metadata": {
        "cellView": "both",
        "colab": {
          "height": 323
        },
        "id": "5OCYEvK5QSHf",
        "outputId": "2ee8ae66-72ed-425c-e20b-bc5ac307ef3e"
      },
      "outputs": [
        {
          "ename": "<class 'OSError'>",
          "evalue": "\"sh\" shell not found",
          "output_type": "error",
          "traceback": [
            "\u001b[0;31m---------------------------------------------------------------------------\u001b[0m",
            "\u001b[0;31mOSError\u001b[0m                                   Traceback (most recent call last)",
            "\u001b[0;32m<ipython-input-1-f262ac44a567>\u001b[0m in \u001b[0;36m<module>\u001b[0;34m\u001b[0m\n\u001b[0;32m----> 1\u001b[0;31m \u001b[0mget_ipython\u001b[0m\u001b[0;34m(\u001b[0m\u001b[0;34m)\u001b[0m\u001b[0;34m.\u001b[0m\u001b[0msystem\u001b[0m\u001b[0;34m(\u001b[0m\u001b[0;34m'ls /bin'\u001b[0m\u001b[0;34m)\u001b[0m\u001b[0;34m\u001b[0m\u001b[0;34m\u001b[0m\u001b[0m\n\u001b[0m",
            "\u001b[0;32m/lib/python3.9/site-packages/IPython/core/interactiveshell.py\u001b[0m in \u001b[0;36msystem_piped\u001b[0;34m(self, cmd)\u001b[0m\n\u001b[1;32m   2498\u001b[0m         \u001b[0;31m# a non-None value would trigger :func:`sys.displayhook` calls.\u001b[0m\u001b[0;34m\u001b[0m\u001b[0;34m\u001b[0m\u001b[0;34m\u001b[0m\u001b[0m\n\u001b[1;32m   2499\u001b[0m         \u001b[0;31m# Instead, we store the exit_code in user_ns.\u001b[0m\u001b[0;34m\u001b[0m\u001b[0;34m\u001b[0m\u001b[0;34m\u001b[0m\u001b[0m\n\u001b[0;32m-> 2500\u001b[0;31m         \u001b[0mself\u001b[0m\u001b[0;34m.\u001b[0m\u001b[0muser_ns\u001b[0m\u001b[0;34m[\u001b[0m\u001b[0;34m'_exit_code'\u001b[0m\u001b[0;34m]\u001b[0m \u001b[0;34m=\u001b[0m \u001b[0msystem\u001b[0m\u001b[0;34m(\u001b[0m\u001b[0mself\u001b[0m\u001b[0;34m.\u001b[0m\u001b[0mvar_expand\u001b[0m\u001b[0;34m(\u001b[0m\u001b[0mcmd\u001b[0m\u001b[0;34m,\u001b[0m \u001b[0mdepth\u001b[0m\u001b[0;34m=\u001b[0m\u001b[0;36m1\u001b[0m\u001b[0;34m)\u001b[0m\u001b[0;34m)\u001b[0m\u001b[0;34m\u001b[0m\u001b[0;34m\u001b[0m\u001b[0m\n\u001b[0m\u001b[1;32m   2501\u001b[0m \u001b[0;34m\u001b[0m\u001b[0m\n\u001b[1;32m   2502\u001b[0m     \u001b[0;32mdef\u001b[0m \u001b[0msystem_raw\u001b[0m\u001b[0;34m(\u001b[0m\u001b[0mself\u001b[0m\u001b[0;34m,\u001b[0m \u001b[0mcmd\u001b[0m\u001b[0;34m)\u001b[0m\u001b[0;34m:\u001b[0m\u001b[0;34m\u001b[0m\u001b[0;34m\u001b[0m\u001b[0m\n",
            "\u001b[0;32m/lib/python3.9/site-packages/IPython/utils/_process_posix.py\u001b[0m in \u001b[0;36msystem\u001b[0;34m(self, cmd)\u001b[0m\n\u001b[1;32m    155\u001b[0m                 \u001b[0mchild\u001b[0m \u001b[0;34m=\u001b[0m \u001b[0mpexpect\u001b[0m\u001b[0;34m.\u001b[0m\u001b[0mspawnb\u001b[0m\u001b[0;34m(\u001b[0m\u001b[0mself\u001b[0m\u001b[0;34m.\u001b[0m\u001b[0msh\u001b[0m\u001b[0;34m,\u001b[0m \u001b[0margs\u001b[0m\u001b[0;34m=\u001b[0m\u001b[0;34m[\u001b[0m\u001b[0;34m'-c'\u001b[0m\u001b[0;34m,\u001b[0m \u001b[0mcmd\u001b[0m\u001b[0;34m]\u001b[0m\u001b[0;34m)\u001b[0m \u001b[0;31m# Pexpect-U\u001b[0m\u001b[0;34m\u001b[0m\u001b[0;34m\u001b[0m\u001b[0m\n\u001b[1;32m    156\u001b[0m             \u001b[0;32melse\u001b[0m\u001b[0;34m:\u001b[0m\u001b[0;34m\u001b[0m\u001b[0;34m\u001b[0m\u001b[0m\n\u001b[0;32m--> 157\u001b[0;31m                 \u001b[0mchild\u001b[0m \u001b[0;34m=\u001b[0m \u001b[0mpexpect\u001b[0m\u001b[0;34m.\u001b[0m\u001b[0mspawn\u001b[0m\u001b[0;34m(\u001b[0m\u001b[0mself\u001b[0m\u001b[0;34m.\u001b[0m\u001b[0msh\u001b[0m\u001b[0;34m,\u001b[0m \u001b[0margs\u001b[0m\u001b[0;34m=\u001b[0m\u001b[0;34m[\u001b[0m\u001b[0;34m'-c'\u001b[0m\u001b[0;34m,\u001b[0m \u001b[0mcmd\u001b[0m\u001b[0;34m]\u001b[0m\u001b[0;34m)\u001b[0m  \u001b[0;31m# Vanilla Pexpect\u001b[0m\u001b[0;34m\u001b[0m\u001b[0;34m\u001b[0m\u001b[0m\n\u001b[0m\u001b[1;32m    158\u001b[0m             \u001b[0mflush\u001b[0m \u001b[0;34m=\u001b[0m \u001b[0msys\u001b[0m\u001b[0;34m.\u001b[0m\u001b[0mstdout\u001b[0m\u001b[0;34m.\u001b[0m\u001b[0mflush\u001b[0m\u001b[0;34m\u001b[0m\u001b[0;34m\u001b[0m\u001b[0m\n\u001b[1;32m    159\u001b[0m             \u001b[0;32mwhile\u001b[0m \u001b[0;32mTrue\u001b[0m\u001b[0;34m:\u001b[0m\u001b[0;34m\u001b[0m\u001b[0;34m\u001b[0m\u001b[0m\n",
            "\u001b[0;32m/lib/python3.9/site-packages/IPython/utils/_process_posix.py\u001b[0m in \u001b[0;36msh\u001b[0;34m(self)\u001b[0m\n\u001b[1;32m     64\u001b[0m             \u001b[0mself\u001b[0m\u001b[0;34m.\u001b[0m\u001b[0m_sh\u001b[0m \u001b[0;34m=\u001b[0m \u001b[0mpexpect\u001b[0m\u001b[0;34m.\u001b[0m\u001b[0mwhich\u001b[0m\u001b[0;34m(\u001b[0m\u001b[0mshell_name\u001b[0m\u001b[0;34m)\u001b[0m\u001b[0;34m\u001b[0m\u001b[0;34m\u001b[0m\u001b[0m\n\u001b[1;32m     65\u001b[0m             \u001b[0;32mif\u001b[0m \u001b[0mself\u001b[0m\u001b[0;34m.\u001b[0m\u001b[0m_sh\u001b[0m \u001b[0;32mis\u001b[0m \u001b[0;32mNone\u001b[0m\u001b[0;34m:\u001b[0m\u001b[0;34m\u001b[0m\u001b[0;34m\u001b[0m\u001b[0m\n\u001b[0;32m---> 66\u001b[0;31m                 \u001b[0;32mraise\u001b[0m \u001b[0mOSError\u001b[0m\u001b[0;34m(\u001b[0m\u001b[0;34m'\"{}\" shell not found'\u001b[0m\u001b[0;34m.\u001b[0m\u001b[0mformat\u001b[0m\u001b[0;34m(\u001b[0m\u001b[0mshell_name\u001b[0m\u001b[0;34m)\u001b[0m\u001b[0;34m)\u001b[0m\u001b[0;34m\u001b[0m\u001b[0;34m\u001b[0m\u001b[0m\n\u001b[0m\u001b[1;32m     67\u001b[0m \u001b[0;34m\u001b[0m\u001b[0m\n\u001b[1;32m     68\u001b[0m         \u001b[0;32mreturn\u001b[0m \u001b[0mself\u001b[0m\u001b[0;34m.\u001b[0m\u001b[0m_sh\u001b[0m\u001b[0;34m\u001b[0m\u001b[0;34m\u001b[0m\u001b[0m\n",
            "\u001b[0;31mOSError\u001b[0m: \"sh\" shell not found"
          ]
        }
      ],
      "source": [
        "!ls /bin"
      ]
    },
    {
      "cell_type": "markdown",
      "metadata": {
        "id": "y8Da6JWKQSHh"
      },
      "source": [
        "That `!ls` probably generated a large output. You can select the cell and clear the output by either: \n",
        "\n",
        "1. Clicking on the clear output button (x) in the toolbar above the cell; or\n",
        "2. Right clicking the left gutter of the output area and selecting \"Clear output\" from the context menu.\n",
        "\n",
        "Execute any other process using `!` with string interpolation from python variables, and note the result can be assigned to a variable:"
      ]
    },
    {
      "cell_type": "code",
      "execution_count": 7,
      "metadata": {
        "cellView": "both",
        "colab": {
          "height": 35
        },
        "id": "zqGrv0blQSHj",
        "outputId": "4970b019-8ae1-47d3-cbc9-ebdb69ee1031"
      },
      "outputs": [
        {
          "data": {
            "text/plain": [
              "['$message', '$message']"
            ]
          },
          "execution_count": 7,
          "metadata": {},
          "output_type": "execute_result"
        }
      ],
      "source": [
        "message = 'VS Code is great!'\n",
        "foo = !echo -e '$message\\n$message'\n",
        "foo"
      ]
    },
    {
      "cell_type": "markdown",
      "metadata": {
        "id": "d4L9TOP9QSHn"
      },
      "source": [
        "## Automatic completions and exploring code\n",
        "\n",
        "VS Code Notebooks (locally) provide automatic completions to explore attributes of Python objects, as well as to quickly view documentation strings. As an example, first run the following cell to import the  [`numpy`](http://www.numpy.org) module."
      ]
    },
    {
      "cell_type": "code",
      "execution_count": null,
      "metadata": {
        "cellView": "both",
        "id": "Q0JKWcmtQSHp"
      },
      "outputs": [],
      "source": [
        "import numpy as np"
      ]
    },
    {
      "cell_type": "markdown",
      "metadata": {
        "id": "1M890-bXeyYp"
      },
      "source": [
        "If you now insert your cursor after `np` and press **Period**(`.`), you will see the list of available completions within the `np` module. Completions can be opened again by using **Ctrl+Space**."
      ]
    },
    {
      "cell_type": "code",
      "execution_count": null,
      "metadata": {
        "cellView": "both",
        "id": "j6QRIfUHQSHq"
      },
      "outputs": [],
      "source": [
        "np"
      ]
    },
    {
      "cell_type": "markdown",
      "metadata": {
        "id": "g6MfomFhQSHs"
      },
      "source": [
        "If you type an open parenthesis after any function or class in the module, you will see a pop-up of its documentation string:"
      ]
    },
    {
      "cell_type": "code",
      "execution_count": null,
      "metadata": {
        "cellView": "both",
        "id": "SD0XnrVhQSHt"
      },
      "outputs": [],
      "source": [
        "np.ndarray"
      ]
    },
    {
      "cell_type": "markdown",
      "metadata": {
        "id": "GVIVDgdaRjPQ"
      },
      "source": [
        "The documentation can be opened again using **Ctrl+Shift+Space** or you can view the documentation for method by mouse hovering over the method name.\n",
        "\n",
        "When hovering over the method name the `Open in tab` link will open the documentation in a persistent pane. The `View source` link will navigate to the source code for the method."
      ]
    },
    {
      "cell_type": "code",
      "execution_count": null,
      "metadata": {},
      "outputs": [],
      "source": [
        "import sqlite3 as lite\n",
        "import sys\n",
        " \n",
        "con = lite.connect('population.db')\n",
        " \n",
        "with con:\n",
        "    cur = con.cursor()    \n",
        "    cur.execute(\"CREATE TABLE Population(id INTEGER PRIMARY KEY, country TEXT, population INT)\")\n",
        "    cur.execute(\"INSERT INTO Population VALUES(NULL,'Germany',81197537)\")\n",
        "    cur.execute(\"INSERT INTO Population VALUES(NULL,'France', 66415161)\")\n",
        "    cur.execute(\"INSERT INTO Population VALUES(NULL,'Spain', 46439864)\")\n",
        "    cur.execute(\"INSERT INTO Population VALUES(NULL,'Italy', 60795612)\")\n",
        "    cur.execute(\"INSERT INTO Population VALUES(NULL,'Spain', 46439864)\")"
      ]
    },
    {
      "cell_type": "code",
      "execution_count": null,
      "metadata": {},
      "outputs": [
        {
          "name": "stderr",
          "output_type": "stream",
          "text": [
            "/lib/python3.9/site-packages/pandas/compat/__init__.py:117: UserWarning: Could not import the lzma module. Your installed Python is incomplete. Attempting to use lzma compression will result in a RuntimeError.\n",
            "  warnings.warn(msg)\n"
          ]
        },
        {
          "name": "stdout",
          "output_type": "stream",
          "text": [
            "Germany\n",
            "France\n",
            "Italy\n"
          ]
        }
      ],
      "source": [
        "import pandas as pd\n",
        "import sqlite3\n",
        "\n",
        "conn = sqlite3.connect('population.db')\n",
        "query = \"SELECT country FROM Population WHERE population > 50000000;\"\n",
        "\n",
        "df = pd.read_sql_query(query,conn)\n",
        "\n",
        "for country in df['country']:\n",
        "    print(country)"
      ]
    },
    {
      "cell_type": "code",
      "execution_count": null,
      "metadata": {},
      "outputs": [
        {
          "data": {
            "application/vnd.plotly.v1+json": {
              "config": {
                "plotlyServerURL": "https://plot.ly"
              },
              "data": [
                {
                  "hovertemplate": "sex=Female<br>total_bill=%{x}<br>tip=%{y}<extra></extra>",
                  "legendgroup": "Female",
                  "marker": {
                    "color": "#636efa",
                    "opacity": 0.65,
                    "symbol": "circle"
                  },
                  "mode": "markers",
                  "name": "Female",
                  "orientation": "v",
                  "showlegend": true,
                  "type": "scatter",
                  "x": [
                    16.99,
                    24.59,
                    35.26,
                    14.83,
                    10.33,
                    16.97,
                    20.29,
                    15.77,
                    19.65,
                    15.06,
                    20.69,
                    16.93,
                    10.29,
                    34.81,
                    26.41,
                    16.45,
                    3.07,
                    17.07,
                    26.86,
                    25.28,
                    14.73,
                    10.07,
                    34.83,
                    5.75,
                    16.32,
                    22.75,
                    11.35,
                    15.38,
                    44.3,
                    22.42,
                    20.92,
                    14.31,
                    7.25,
                    25.71,
                    17.31,
                    10.65,
                    12.43,
                    24.08,
                    13.42,
                    12.48,
                    29.8,
                    14.52,
                    11.38,
                    20.27,
                    11.17,
                    12.26,
                    18.26,
                    8.51,
                    10.33,
                    14.15,
                    13.16,
                    17.47,
                    27.05,
                    16.43,
                    8.35,
                    18.64,
                    11.87,
                    29.85,
                    25,
                    13.39,
                    16.21,
                    17.51,
                    10.59,
                    10.63,
                    9.6,
                    20.9,
                    18.15,
                    19.81,
                    43.11,
                    13,
                    12.74,
                    13,
                    16.4,
                    16.47,
                    12.76,
                    13.27,
                    28.17,
                    12.9,
                    30.14,
                    13.42,
                    15.98,
                    16.27,
                    10.09,
                    22.12,
                    35.83,
                    27.18,
                    18.78
                  ],
                  "xaxis": "x",
                  "y": [
                    1.01,
                    3.61,
                    5,
                    3.02,
                    1.67,
                    3.5,
                    2.75,
                    2.23,
                    3,
                    3,
                    2.45,
                    3.07,
                    2.6,
                    5.2,
                    1.5,
                    2.47,
                    1,
                    3,
                    3.14,
                    5,
                    2.2,
                    1.83,
                    5.17,
                    1,
                    4.3,
                    3.25,
                    2.5,
                    3,
                    2.5,
                    3.48,
                    4.08,
                    4,
                    1,
                    4,
                    3.5,
                    1.5,
                    1.8,
                    2.92,
                    1.68,
                    2.52,
                    4.2,
                    2,
                    2,
                    2.83,
                    1.5,
                    2,
                    3.25,
                    1.25,
                    2,
                    2,
                    2.75,
                    3.5,
                    5,
                    2.3,
                    1.5,
                    1.36,
                    1.63,
                    5.14,
                    3.75,
                    2.61,
                    2,
                    3,
                    1.61,
                    2,
                    4,
                    3.5,
                    3.5,
                    4.19,
                    5,
                    2,
                    2.01,
                    2,
                    2.5,
                    3.23,
                    2.23,
                    2.5,
                    6.5,
                    1.1,
                    3.09,
                    3.48,
                    3,
                    2.5,
                    2,
                    2.88,
                    4.67,
                    2,
                    3
                  ],
                  "yaxis": "y"
                },
                {
                  "hovertemplate": "sex=Male<br>total_bill=%{x}<br>tip=%{y}<extra></extra>",
                  "legendgroup": "Male",
                  "marker": {
                    "color": "#EF553B",
                    "opacity": 0.65,
                    "symbol": "circle"
                  },
                  "mode": "markers",
                  "name": "Male",
                  "orientation": "v",
                  "showlegend": true,
                  "type": "scatter",
                  "x": [
                    10.34,
                    21.01,
                    23.68,
                    25.29,
                    8.77,
                    26.88,
                    15.04,
                    14.78,
                    10.27,
                    15.42,
                    18.43,
                    21.58,
                    16.29,
                    20.65,
                    17.92,
                    39.42,
                    19.82,
                    17.81,
                    13.37,
                    12.69,
                    21.7,
                    9.55,
                    18.35,
                    17.78,
                    24.06,
                    16.31,
                    18.69,
                    31.27,
                    16.04,
                    17.46,
                    13.94,
                    9.68,
                    30.4,
                    18.29,
                    22.23,
                    32.4,
                    28.55,
                    18.04,
                    12.54,
                    9.94,
                    25.56,
                    19.49,
                    38.01,
                    11.24,
                    48.27,
                    20.29,
                    13.81,
                    11.02,
                    18.29,
                    17.59,
                    20.08,
                    20.23,
                    15.01,
                    12.02,
                    10.51,
                    17.92,
                    27.2,
                    22.76,
                    17.29,
                    19.44,
                    16.66,
                    32.68,
                    15.98,
                    13.03,
                    18.28,
                    24.71,
                    21.16,
                    28.97,
                    22.49,
                    40.17,
                    27.28,
                    12.03,
                    21.01,
                    12.46,
                    15.36,
                    20.49,
                    25.21,
                    18.24,
                    14,
                    38.07,
                    23.95,
                    29.93,
                    11.69,
                    14.26,
                    15.95,
                    8.52,
                    22.82,
                    19.08,
                    16,
                    34.3,
                    41.19,
                    9.78,
                    7.51,
                    14.07,
                    13.13,
                    17.26,
                    24.55,
                    19.77,
                    48.17,
                    16.49,
                    21.5,
                    12.66,
                    13.81,
                    24.52,
                    20.76,
                    31.71,
                    50.81,
                    15.81,
                    7.25,
                    31.85,
                    16.82,
                    32.9,
                    17.89,
                    14.48,
                    34.63,
                    34.65,
                    23.33,
                    45.35,
                    23.17,
                    40.55,
                    20.69,
                    30.46,
                    23.1,
                    15.69,
                    28.44,
                    15.48,
                    16.58,
                    7.56,
                    10.34,
                    13.51,
                    18.71,
                    20.53,
                    26.59,
                    38.73,
                    24.27,
                    30.06,
                    25.89,
                    48.33,
                    28.15,
                    11.59,
                    7.74,
                    12.16,
                    8.58,
                    13.42,
                    20.45,
                    13.28,
                    24.01,
                    15.69,
                    11.61,
                    10.77,
                    15.53,
                    10.07,
                    12.6,
                    32.83,
                    29.03,
                    22.67,
                    17.82
                  ],
                  "xaxis": "x",
                  "y": [
                    1.66,
                    3.5,
                    3.31,
                    4.71,
                    2,
                    3.12,
                    1.96,
                    3.23,
                    1.71,
                    1.57,
                    3,
                    3.92,
                    3.71,
                    3.35,
                    4.08,
                    7.58,
                    3.18,
                    2.34,
                    2,
                    2,
                    4.3,
                    1.45,
                    2.5,
                    3.27,
                    3.6,
                    2,
                    2.31,
                    5,
                    2.24,
                    2.54,
                    3.06,
                    1.32,
                    5.6,
                    3,
                    5,
                    6,
                    2.05,
                    3,
                    2.5,
                    1.56,
                    4.34,
                    3.51,
                    3,
                    1.76,
                    6.73,
                    3.21,
                    2,
                    1.98,
                    3.76,
                    2.64,
                    3.15,
                    2.01,
                    2.09,
                    1.97,
                    1.25,
                    3.08,
                    4,
                    3,
                    2.71,
                    3,
                    3.4,
                    5,
                    2.03,
                    2,
                    4,
                    5.85,
                    3,
                    3,
                    3.5,
                    4.73,
                    4,
                    1.5,
                    3,
                    1.5,
                    1.64,
                    4.06,
                    4.29,
                    3.76,
                    3,
                    4,
                    2.55,
                    5.07,
                    2.31,
                    2.5,
                    2,
                    1.48,
                    2.18,
                    1.5,
                    2,
                    6.7,
                    5,
                    1.73,
                    2,
                    2.5,
                    2,
                    2.74,
                    2,
                    2,
                    5,
                    2,
                    3.5,
                    2.5,
                    2,
                    3.48,
                    2.24,
                    4.5,
                    10,
                    3.16,
                    5.15,
                    3.18,
                    4,
                    3.11,
                    2,
                    2,
                    3.55,
                    3.68,
                    5.65,
                    3.5,
                    6.5,
                    3,
                    5,
                    2,
                    4,
                    1.5,
                    2.56,
                    2.02,
                    4,
                    1.44,
                    2,
                    2,
                    4,
                    4,
                    3.41,
                    3,
                    2.03,
                    2,
                    5.16,
                    9,
                    3,
                    1.5,
                    1.44,
                    2.2,
                    1.92,
                    1.58,
                    3,
                    2.72,
                    2,
                    3,
                    3.39,
                    1.47,
                    3,
                    1.25,
                    1,
                    1.17,
                    5.92,
                    2,
                    1.75
                  ],
                  "yaxis": "y"
                },
                {
                  "name": "Weights: Uniform",
                  "type": "scatter",
                  "x": [
                    3.07,
                    3.552222222222222,
                    4.0344444444444445,
                    4.516666666666667,
                    4.998888888888889,
                    5.481111111111111,
                    5.963333333333333,
                    6.445555555555556,
                    6.927777777777777,
                    7.41,
                    7.892222222222221,
                    8.374444444444444,
                    8.856666666666667,
                    9.338888888888889,
                    9.821111111111112,
                    10.303333333333333,
                    10.785555555555556,
                    11.267777777777779,
                    11.75,
                    12.232222222222223,
                    12.714444444444444,
                    13.196666666666667,
                    13.678888888888888,
                    14.161111111111111,
                    14.643333333333334,
                    15.125555555555556,
                    15.607777777777779,
                    16.09,
                    16.572222222222223,
                    17.054444444444442,
                    17.536666666666665,
                    18.01888888888889,
                    18.50111111111111,
                    18.983333333333334,
                    19.465555555555557,
                    19.947777777777777,
                    20.43,
                    20.912222222222223,
                    21.394444444444446,
                    21.876666666666665,
                    22.358888888888888,
                    22.84111111111111,
                    23.323333333333334,
                    23.805555555555557,
                    24.287777777777777,
                    24.77,
                    25.252222222222223,
                    25.734444444444446,
                    26.21666666666667,
                    26.698888888888888,
                    27.18111111111111,
                    27.663333333333334,
                    28.145555555555557,
                    28.627777777777776,
                    29.11,
                    29.592222222222222,
                    30.074444444444445,
                    30.55666666666667,
                    31.038888888888888,
                    31.52111111111111,
                    32.00333333333333,
                    32.48555555555556,
                    32.967777777777776,
                    33.449999999999996,
                    33.93222222222222,
                    34.41444444444444,
                    34.89666666666667,
                    35.37888888888889,
                    35.861111111111114,
                    36.343333333333334,
                    36.82555555555555,
                    37.30777777777778,
                    37.79,
                    38.272222222222226,
                    38.754444444444445,
                    39.236666666666665,
                    39.71888888888889,
                    40.20111111111111,
                    40.68333333333333,
                    41.16555555555556,
                    41.647777777777776,
                    42.13,
                    42.61222222222222,
                    43.09444444444444,
                    43.57666666666667,
                    44.05888888888889,
                    44.541111111111114,
                    45.02333333333333,
                    45.50555555555555,
                    45.98777777777778,
                    46.47,
                    46.952222222222225,
                    47.434444444444445,
                    47.916666666666664,
                    48.39888888888889,
                    48.88111111111111,
                    49.36333333333334,
                    49.845555555555556,
                    50.327777777777776,
                    50.81
                  ],
                  "y": [
                    1.7260000000000002,
                    1.7260000000000002,
                    1.7260000000000002,
                    1.7260000000000002,
                    1.7260000000000002,
                    1.7260000000000002,
                    1.818,
                    1.818,
                    1.818,
                    1.918,
                    1.918,
                    1.918,
                    1.8209999999999997,
                    1.9060000000000001,
                    1.9450000000000003,
                    1.797,
                    1.673,
                    2.0039999999999996,
                    2.076,
                    1.8619999999999997,
                    1.916,
                    2.2159999999999997,
                    2.341,
                    2.5060000000000002,
                    2.6,
                    2.3729999999999998,
                    2.3120000000000003,
                    2.5780000000000003,
                    3.02,
                    2.947,
                    2.7990000000000004,
                    3.0029999999999997,
                    3.094,
                    2.718,
                    3.053,
                    2.9829999999999997,
                    3.2659999999999996,
                    3.4120000000000004,
                    3.349,
                    3.4579999999999997,
                    3.3590000000000004,
                    3.8560000000000003,
                    3.444,
                    3.604,
                    3.135,
                    3.7640000000000002,
                    4.271,
                    4.201,
                    3.938,
                    3.533,
                    3.567,
                    3.537,
                    3.803,
                    4.144,
                    3.944,
                    3.8069999999999995,
                    4.101999999999999,
                    3.978,
                    3.978,
                    3.8650000000000007,
                    3.8650000000000007,
                    4.226,
                    4.189,
                    4.276,
                    4.458,
                    4.325,
                    4.325,
                    4.125,
                    4.397,
                    4.397,
                    4.397,
                    4.485,
                    4.535,
                    4.515,
                    4.515,
                    4.498,
                    4.498,
                    4.248,
                    4.131,
                    4.131,
                    4.131,
                    4.131,
                    4.131,
                    4.331,
                    5.204000000000001,
                    5.204,
                    5.204000000000001,
                    5.204000000000001,
                    5.446000000000001,
                    5.446000000000001,
                    5.446000000000001,
                    5.446000000000001,
                    5.446000000000001,
                    5.446000000000001,
                    5.446000000000001,
                    5.446000000000001,
                    5.446000000000001,
                    5.446000000000001,
                    5.446000000000001,
                    5.446000000000001
                  ]
                },
                {
                  "name": "Weights: Distance",
                  "type": "scatter",
                  "x": [
                    3.07,
                    3.552222222222222,
                    4.0344444444444445,
                    4.516666666666667,
                    4.998888888888889,
                    5.481111111111111,
                    5.963333333333333,
                    6.445555555555556,
                    6.927777777777777,
                    7.41,
                    7.892222222222221,
                    8.374444444444444,
                    8.856666666666667,
                    9.338888888888889,
                    9.821111111111112,
                    10.303333333333333,
                    10.785555555555556,
                    11.267777777777779,
                    11.75,
                    12.232222222222223,
                    12.714444444444444,
                    13.196666666666667,
                    13.678888888888888,
                    14.161111111111111,
                    14.643333333333334,
                    15.125555555555556,
                    15.607777777777779,
                    16.09,
                    16.572222222222223,
                    17.054444444444442,
                    17.536666666666665,
                    18.01888888888889,
                    18.50111111111111,
                    18.983333333333334,
                    19.465555555555557,
                    19.947777777777777,
                    20.43,
                    20.912222222222223,
                    21.394444444444446,
                    21.876666666666665,
                    22.358888888888888,
                    22.84111111111111,
                    23.323333333333334,
                    23.805555555555557,
                    24.287777777777777,
                    24.77,
                    25.252222222222223,
                    25.734444444444446,
                    26.21666666666667,
                    26.698888888888888,
                    27.18111111111111,
                    27.663333333333334,
                    28.145555555555557,
                    28.627777777777776,
                    29.11,
                    29.592222222222222,
                    30.074444444444445,
                    30.55666666666667,
                    31.038888888888888,
                    31.52111111111111,
                    32.00333333333333,
                    32.48555555555556,
                    32.967777777777776,
                    33.449999999999996,
                    33.93222222222222,
                    34.41444444444444,
                    34.89666666666667,
                    35.37888888888889,
                    35.861111111111114,
                    36.343333333333334,
                    36.82555555555555,
                    37.30777777777778,
                    37.79,
                    38.272222222222226,
                    38.754444444444445,
                    39.236666666666665,
                    39.71888888888889,
                    40.20111111111111,
                    40.68333333333333,
                    41.16555555555556,
                    41.647777777777776,
                    42.13,
                    42.61222222222222,
                    43.09444444444444,
                    43.57666666666667,
                    44.05888888888889,
                    44.541111111111114,
                    45.02333333333333,
                    45.50555555555555,
                    45.98777777777778,
                    46.47,
                    46.952222222222225,
                    47.434444444444445,
                    47.916666666666664,
                    48.39888888888889,
                    48.88111111111111,
                    49.36333333333334,
                    49.845555555555556,
                    50.327777777777776,
                    50.81
                  ],
                  "y": [
                    1,
                    1.4163450959710786,
                    1.558510656994564,
                    1.616570007190273,
                    1.6158504217837786,
                    1.4760428938565258,
                    1.5425230586089462,
                    1.927689921338773,
                    2.215299743842599,
                    2.1706624432964485,
                    1.7739144568317324,
                    1.5664409061440698,
                    1.8409376874117145,
                    2.01563853511227,
                    1.8264383377973636,
                    2.028025240065103,
                    1.5502219548496738,
                    1.9258003409018094,
                    2.1493978864788854,
                    1.9624507130069857,
                    2.0227189010282394,
                    2.3737498529499335,
                    2.2616820616826163,
                    2.249569008209836,
                    2.51490969412968,
                    2.409291058310236,
                    2.3695009222008614,
                    2.421423362014379,
                    3.5978734702730057,
                    2.8295487809346658,
                    2.898985496102064,
                    3.03734087538941,
                    2.968091909787552,
                    2.45263733936934,
                    3.1893967514364374,
                    3.054355665096097,
                    3.24935554739189,
                    3.741061111726978,
                    3.47680148522589,
                    3.671355366295554,
                    3.5210076129700343,
                    2.8247411166838097,
                    5.419749787103295,
                    3.2113658036492416,
                    2.4315567522620176,
                    4.332924608319252,
                    4.623847519619034,
                    4.168166865611851,
                    3.5161639846113926,
                    3.315340254148736,
                    2.166551059575697,
                    3.6629489497940333,
                    3.523362848838963,
                    3.1756543473672223,
                    4.460928649144852,
                    4.0997168064740395,
                    2.724129257358863,
                    3.582638368138194,
                    4.142426674015703,
                    4.18243490204086,
                    3.950475270439257,
                    4.716484390175545,
                    3.210280543455818,
                    4.072182439917837,
                    4.70278050658384,
                    4.9825241777005065,
                    4.848942184479672,
                    4.723050016129829,
                    4.655963070737826,
                    4.488159683442829,
                    4.300608894815647,
                    4.176982618847257,
                    3.84093599820823,
                    3.8838305783403118,
                    3.2529083967318395,
                    5.467710443252835,
                    5.167188944399129,
                    4.634085670712705,
                    3.842453689524513,
                    4.892365847019009,
                    4.424887631678259,
                    4.341970007970647,
                    4.377082143891938,
                    4.947246719828613,
                    4.466018314315038,
                    3.6832888635879453,
                    3.6312795000881732,
                    4.061462021021381,
                    4.040715905724092,
                    4.838214061757563,
                    5.34107933505339,
                    5.7623999960616334,
                    6.134329646751101,
                    6.359141363843585,
                    7.558615157258697,
                    6.78320471136852,
                    6.784575099345461,
                    7.074178380871137,
                    7.826427992494179,
                    10
                  ]
                }
              ],
              "layout": {
                "legend": {
                  "title": {
                    "text": "sex"
                  },
                  "tracegroupgap": 0
                },
                "margin": {
                  "t": 60
                },
                "template": {
                  "data": {
                    "bar": [
                      {
                        "error_x": {
                          "color": "#2a3f5f"
                        },
                        "error_y": {
                          "color": "#2a3f5f"
                        },
                        "marker": {
                          "line": {
                            "color": "#E5ECF6",
                            "width": 0.5
                          },
                          "pattern": {
                            "fillmode": "overlay",
                            "size": 10,
                            "solidity": 0.2
                          }
                        },
                        "type": "bar"
                      }
                    ],
                    "barpolar": [
                      {
                        "marker": {
                          "line": {
                            "color": "#E5ECF6",
                            "width": 0.5
                          },
                          "pattern": {
                            "fillmode": "overlay",
                            "size": 10,
                            "solidity": 0.2
                          }
                        },
                        "type": "barpolar"
                      }
                    ],
                    "carpet": [
                      {
                        "aaxis": {
                          "endlinecolor": "#2a3f5f",
                          "gridcolor": "white",
                          "linecolor": "white",
                          "minorgridcolor": "white",
                          "startlinecolor": "#2a3f5f"
                        },
                        "baxis": {
                          "endlinecolor": "#2a3f5f",
                          "gridcolor": "white",
                          "linecolor": "white",
                          "minorgridcolor": "white",
                          "startlinecolor": "#2a3f5f"
                        },
                        "type": "carpet"
                      }
                    ],
                    "choropleth": [
                      {
                        "colorbar": {
                          "outlinewidth": 0,
                          "ticks": ""
                        },
                        "type": "choropleth"
                      }
                    ],
                    "contour": [
                      {
                        "colorbar": {
                          "outlinewidth": 0,
                          "ticks": ""
                        },
                        "colorscale": [
                          [
                            0,
                            "#0d0887"
                          ],
                          [
                            0.1111111111111111,
                            "#46039f"
                          ],
                          [
                            0.2222222222222222,
                            "#7201a8"
                          ],
                          [
                            0.3333333333333333,
                            "#9c179e"
                          ],
                          [
                            0.4444444444444444,
                            "#bd3786"
                          ],
                          [
                            0.5555555555555556,
                            "#d8576b"
                          ],
                          [
                            0.6666666666666666,
                            "#ed7953"
                          ],
                          [
                            0.7777777777777778,
                            "#fb9f3a"
                          ],
                          [
                            0.8888888888888888,
                            "#fdca26"
                          ],
                          [
                            1,
                            "#f0f921"
                          ]
                        ],
                        "type": "contour"
                      }
                    ],
                    "contourcarpet": [
                      {
                        "colorbar": {
                          "outlinewidth": 0,
                          "ticks": ""
                        },
                        "type": "contourcarpet"
                      }
                    ],
                    "heatmap": [
                      {
                        "colorbar": {
                          "outlinewidth": 0,
                          "ticks": ""
                        },
                        "colorscale": [
                          [
                            0,
                            "#0d0887"
                          ],
                          [
                            0.1111111111111111,
                            "#46039f"
                          ],
                          [
                            0.2222222222222222,
                            "#7201a8"
                          ],
                          [
                            0.3333333333333333,
                            "#9c179e"
                          ],
                          [
                            0.4444444444444444,
                            "#bd3786"
                          ],
                          [
                            0.5555555555555556,
                            "#d8576b"
                          ],
                          [
                            0.6666666666666666,
                            "#ed7953"
                          ],
                          [
                            0.7777777777777778,
                            "#fb9f3a"
                          ],
                          [
                            0.8888888888888888,
                            "#fdca26"
                          ],
                          [
                            1,
                            "#f0f921"
                          ]
                        ],
                        "type": "heatmap"
                      }
                    ],
                    "heatmapgl": [
                      {
                        "colorbar": {
                          "outlinewidth": 0,
                          "ticks": ""
                        },
                        "colorscale": [
                          [
                            0,
                            "#0d0887"
                          ],
                          [
                            0.1111111111111111,
                            "#46039f"
                          ],
                          [
                            0.2222222222222222,
                            "#7201a8"
                          ],
                          [
                            0.3333333333333333,
                            "#9c179e"
                          ],
                          [
                            0.4444444444444444,
                            "#bd3786"
                          ],
                          [
                            0.5555555555555556,
                            "#d8576b"
                          ],
                          [
                            0.6666666666666666,
                            "#ed7953"
                          ],
                          [
                            0.7777777777777778,
                            "#fb9f3a"
                          ],
                          [
                            0.8888888888888888,
                            "#fdca26"
                          ],
                          [
                            1,
                            "#f0f921"
                          ]
                        ],
                        "type": "heatmapgl"
                      }
                    ],
                    "histogram": [
                      {
                        "marker": {
                          "pattern": {
                            "fillmode": "overlay",
                            "size": 10,
                            "solidity": 0.2
                          }
                        },
                        "type": "histogram"
                      }
                    ],
                    "histogram2d": [
                      {
                        "colorbar": {
                          "outlinewidth": 0,
                          "ticks": ""
                        },
                        "colorscale": [
                          [
                            0,
                            "#0d0887"
                          ],
                          [
                            0.1111111111111111,
                            "#46039f"
                          ],
                          [
                            0.2222222222222222,
                            "#7201a8"
                          ],
                          [
                            0.3333333333333333,
                            "#9c179e"
                          ],
                          [
                            0.4444444444444444,
                            "#bd3786"
                          ],
                          [
                            0.5555555555555556,
                            "#d8576b"
                          ],
                          [
                            0.6666666666666666,
                            "#ed7953"
                          ],
                          [
                            0.7777777777777778,
                            "#fb9f3a"
                          ],
                          [
                            0.8888888888888888,
                            "#fdca26"
                          ],
                          [
                            1,
                            "#f0f921"
                          ]
                        ],
                        "type": "histogram2d"
                      }
                    ],
                    "histogram2dcontour": [
                      {
                        "colorbar": {
                          "outlinewidth": 0,
                          "ticks": ""
                        },
                        "colorscale": [
                          [
                            0,
                            "#0d0887"
                          ],
                          [
                            0.1111111111111111,
                            "#46039f"
                          ],
                          [
                            0.2222222222222222,
                            "#7201a8"
                          ],
                          [
                            0.3333333333333333,
                            "#9c179e"
                          ],
                          [
                            0.4444444444444444,
                            "#bd3786"
                          ],
                          [
                            0.5555555555555556,
                            "#d8576b"
                          ],
                          [
                            0.6666666666666666,
                            "#ed7953"
                          ],
                          [
                            0.7777777777777778,
                            "#fb9f3a"
                          ],
                          [
                            0.8888888888888888,
                            "#fdca26"
                          ],
                          [
                            1,
                            "#f0f921"
                          ]
                        ],
                        "type": "histogram2dcontour"
                      }
                    ],
                    "mesh3d": [
                      {
                        "colorbar": {
                          "outlinewidth": 0,
                          "ticks": ""
                        },
                        "type": "mesh3d"
                      }
                    ],
                    "parcoords": [
                      {
                        "line": {
                          "colorbar": {
                            "outlinewidth": 0,
                            "ticks": ""
                          }
                        },
                        "type": "parcoords"
                      }
                    ],
                    "pie": [
                      {
                        "automargin": true,
                        "type": "pie"
                      }
                    ],
                    "scatter": [
                      {
                        "marker": {
                          "colorbar": {
                            "outlinewidth": 0,
                            "ticks": ""
                          }
                        },
                        "type": "scatter"
                      }
                    ],
                    "scatter3d": [
                      {
                        "line": {
                          "colorbar": {
                            "outlinewidth": 0,
                            "ticks": ""
                          }
                        },
                        "marker": {
                          "colorbar": {
                            "outlinewidth": 0,
                            "ticks": ""
                          }
                        },
                        "type": "scatter3d"
                      }
                    ],
                    "scattercarpet": [
                      {
                        "marker": {
                          "colorbar": {
                            "outlinewidth": 0,
                            "ticks": ""
                          }
                        },
                        "type": "scattercarpet"
                      }
                    ],
                    "scattergeo": [
                      {
                        "marker": {
                          "colorbar": {
                            "outlinewidth": 0,
                            "ticks": ""
                          }
                        },
                        "type": "scattergeo"
                      }
                    ],
                    "scattergl": [
                      {
                        "marker": {
                          "colorbar": {
                            "outlinewidth": 0,
                            "ticks": ""
                          }
                        },
                        "type": "scattergl"
                      }
                    ],
                    "scattermapbox": [
                      {
                        "marker": {
                          "colorbar": {
                            "outlinewidth": 0,
                            "ticks": ""
                          }
                        },
                        "type": "scattermapbox"
                      }
                    ],
                    "scatterpolar": [
                      {
                        "marker": {
                          "colorbar": {
                            "outlinewidth": 0,
                            "ticks": ""
                          }
                        },
                        "type": "scatterpolar"
                      }
                    ],
                    "scatterpolargl": [
                      {
                        "marker": {
                          "colorbar": {
                            "outlinewidth": 0,
                            "ticks": ""
                          }
                        },
                        "type": "scatterpolargl"
                      }
                    ],
                    "scatterternary": [
                      {
                        "marker": {
                          "colorbar": {
                            "outlinewidth": 0,
                            "ticks": ""
                          }
                        },
                        "type": "scatterternary"
                      }
                    ],
                    "surface": [
                      {
                        "colorbar": {
                          "outlinewidth": 0,
                          "ticks": ""
                        },
                        "colorscale": [
                          [
                            0,
                            "#0d0887"
                          ],
                          [
                            0.1111111111111111,
                            "#46039f"
                          ],
                          [
                            0.2222222222222222,
                            "#7201a8"
                          ],
                          [
                            0.3333333333333333,
                            "#9c179e"
                          ],
                          [
                            0.4444444444444444,
                            "#bd3786"
                          ],
                          [
                            0.5555555555555556,
                            "#d8576b"
                          ],
                          [
                            0.6666666666666666,
                            "#ed7953"
                          ],
                          [
                            0.7777777777777778,
                            "#fb9f3a"
                          ],
                          [
                            0.8888888888888888,
                            "#fdca26"
                          ],
                          [
                            1,
                            "#f0f921"
                          ]
                        ],
                        "type": "surface"
                      }
                    ],
                    "table": [
                      {
                        "cells": {
                          "fill": {
                            "color": "#EBF0F8"
                          },
                          "line": {
                            "color": "white"
                          }
                        },
                        "header": {
                          "fill": {
                            "color": "#C8D4E3"
                          },
                          "line": {
                            "color": "white"
                          }
                        },
                        "type": "table"
                      }
                    ]
                  },
                  "layout": {
                    "annotationdefaults": {
                      "arrowcolor": "#2a3f5f",
                      "arrowhead": 0,
                      "arrowwidth": 1
                    },
                    "autotypenumbers": "strict",
                    "coloraxis": {
                      "colorbar": {
                        "outlinewidth": 0,
                        "ticks": ""
                      }
                    },
                    "colorscale": {
                      "diverging": [
                        [
                          0,
                          "#8e0152"
                        ],
                        [
                          0.1,
                          "#c51b7d"
                        ],
                        [
                          0.2,
                          "#de77ae"
                        ],
                        [
                          0.3,
                          "#f1b6da"
                        ],
                        [
                          0.4,
                          "#fde0ef"
                        ],
                        [
                          0.5,
                          "#f7f7f7"
                        ],
                        [
                          0.6,
                          "#e6f5d0"
                        ],
                        [
                          0.7,
                          "#b8e186"
                        ],
                        [
                          0.8,
                          "#7fbc41"
                        ],
                        [
                          0.9,
                          "#4d9221"
                        ],
                        [
                          1,
                          "#276419"
                        ]
                      ],
                      "sequential": [
                        [
                          0,
                          "#0d0887"
                        ],
                        [
                          0.1111111111111111,
                          "#46039f"
                        ],
                        [
                          0.2222222222222222,
                          "#7201a8"
                        ],
                        [
                          0.3333333333333333,
                          "#9c179e"
                        ],
                        [
                          0.4444444444444444,
                          "#bd3786"
                        ],
                        [
                          0.5555555555555556,
                          "#d8576b"
                        ],
                        [
                          0.6666666666666666,
                          "#ed7953"
                        ],
                        [
                          0.7777777777777778,
                          "#fb9f3a"
                        ],
                        [
                          0.8888888888888888,
                          "#fdca26"
                        ],
                        [
                          1,
                          "#f0f921"
                        ]
                      ],
                      "sequentialminus": [
                        [
                          0,
                          "#0d0887"
                        ],
                        [
                          0.1111111111111111,
                          "#46039f"
                        ],
                        [
                          0.2222222222222222,
                          "#7201a8"
                        ],
                        [
                          0.3333333333333333,
                          "#9c179e"
                        ],
                        [
                          0.4444444444444444,
                          "#bd3786"
                        ],
                        [
                          0.5555555555555556,
                          "#d8576b"
                        ],
                        [
                          0.6666666666666666,
                          "#ed7953"
                        ],
                        [
                          0.7777777777777778,
                          "#fb9f3a"
                        ],
                        [
                          0.8888888888888888,
                          "#fdca26"
                        ],
                        [
                          1,
                          "#f0f921"
                        ]
                      ]
                    },
                    "colorway": [
                      "#636efa",
                      "#EF553B",
                      "#00cc96",
                      "#ab63fa",
                      "#FFA15A",
                      "#19d3f3",
                      "#FF6692",
                      "#B6E880",
                      "#FF97FF",
                      "#FECB52"
                    ],
                    "font": {
                      "color": "#2a3f5f"
                    },
                    "geo": {
                      "bgcolor": "white",
                      "lakecolor": "white",
                      "landcolor": "#E5ECF6",
                      "showlakes": true,
                      "showland": true,
                      "subunitcolor": "white"
                    },
                    "hoverlabel": {
                      "align": "left"
                    },
                    "hovermode": "closest",
                    "mapbox": {
                      "style": "light"
                    },
                    "paper_bgcolor": "white",
                    "plot_bgcolor": "#E5ECF6",
                    "polar": {
                      "angularaxis": {
                        "gridcolor": "white",
                        "linecolor": "white",
                        "ticks": ""
                      },
                      "bgcolor": "#E5ECF6",
                      "radialaxis": {
                        "gridcolor": "white",
                        "linecolor": "white",
                        "ticks": ""
                      }
                    },
                    "scene": {
                      "xaxis": {
                        "backgroundcolor": "#E5ECF6",
                        "gridcolor": "white",
                        "gridwidth": 2,
                        "linecolor": "white",
                        "showbackground": true,
                        "ticks": "",
                        "zerolinecolor": "white"
                      },
                      "yaxis": {
                        "backgroundcolor": "#E5ECF6",
                        "gridcolor": "white",
                        "gridwidth": 2,
                        "linecolor": "white",
                        "showbackground": true,
                        "ticks": "",
                        "zerolinecolor": "white"
                      },
                      "zaxis": {
                        "backgroundcolor": "#E5ECF6",
                        "gridcolor": "white",
                        "gridwidth": 2,
                        "linecolor": "white",
                        "showbackground": true,
                        "ticks": "",
                        "zerolinecolor": "white"
                      }
                    },
                    "shapedefaults": {
                      "line": {
                        "color": "#2a3f5f"
                      }
                    },
                    "ternary": {
                      "aaxis": {
                        "gridcolor": "white",
                        "linecolor": "white",
                        "ticks": ""
                      },
                      "baxis": {
                        "gridcolor": "white",
                        "linecolor": "white",
                        "ticks": ""
                      },
                      "bgcolor": "#E5ECF6",
                      "caxis": {
                        "gridcolor": "white",
                        "linecolor": "white",
                        "ticks": ""
                      }
                    },
                    "title": {
                      "x": 0.05
                    },
                    "xaxis": {
                      "automargin": true,
                      "gridcolor": "white",
                      "linecolor": "white",
                      "ticks": "",
                      "title": {
                        "standoff": 15
                      },
                      "zerolinecolor": "white",
                      "zerolinewidth": 2
                    },
                    "yaxis": {
                      "automargin": true,
                      "gridcolor": "white",
                      "linecolor": "white",
                      "ticks": "",
                      "title": {
                        "standoff": 15
                      },
                      "zerolinecolor": "white",
                      "zerolinewidth": 2
                    }
                  }
                },
                "xaxis": {
                  "anchor": "y",
                  "domain": [
                    0,
                    1
                  ],
                  "title": {
                    "text": "total_bill"
                  }
                },
                "yaxis": {
                  "anchor": "x",
                  "domain": [
                    0,
                    1
                  ],
                  "title": {
                    "text": "tip"
                  }
                }
              }
            },
            "text/html": [
              "<div>                            <div id=\"4c06e926-7314-4eb9-b62a-2d50031804e2\" class=\"plotly-graph-div\" style=\"height:525px; width:100%;\"></div>            <script type=\"text/javascript\">                require([\"plotly\"], function(Plotly) {                    window.PLOTLYENV=window.PLOTLYENV || {};                                    if (document.getElementById(\"4c06e926-7314-4eb9-b62a-2d50031804e2\")) {                    Plotly.newPlot(                        \"4c06e926-7314-4eb9-b62a-2d50031804e2\",                        [{\"hovertemplate\":\"sex=Female<br>total_bill=%{x}<br>tip=%{y}<extra></extra>\",\"legendgroup\":\"Female\",\"marker\":{\"color\":\"#636efa\",\"opacity\":0.65,\"symbol\":\"circle\"},\"mode\":\"markers\",\"name\":\"Female\",\"orientation\":\"v\",\"showlegend\":true,\"type\":\"scatter\",\"x\":[16.99,24.59,35.26,14.83,10.33,16.97,20.29,15.77,19.65,15.06,20.69,16.93,10.29,34.81,26.41,16.45,3.07,17.07,26.86,25.28,14.73,10.07,34.83,5.75,16.32,22.75,11.35,15.38,44.3,22.42,20.92,14.31,7.25,25.71,17.31,10.65,12.43,24.08,13.42,12.48,29.8,14.52,11.38,20.27,11.17,12.26,18.26,8.51,10.33,14.15,13.16,17.47,27.05,16.43,8.35,18.64,11.87,29.85,25.0,13.39,16.21,17.51,10.59,10.63,9.6,20.9,18.15,19.81,43.11,13.0,12.74,13.0,16.4,16.47,12.76,13.27,28.17,12.9,30.14,13.42,15.98,16.27,10.09,22.12,35.83,27.18,18.78],\"xaxis\":\"x\",\"y\":[1.01,3.61,5.0,3.02,1.67,3.5,2.75,2.23,3.0,3.0,2.45,3.07,2.6,5.2,1.5,2.47,1.0,3.0,3.14,5.0,2.2,1.83,5.17,1.0,4.3,3.25,2.5,3.0,2.5,3.48,4.08,4.0,1.0,4.0,3.5,1.5,1.8,2.92,1.68,2.52,4.2,2.0,2.0,2.83,1.5,2.0,3.25,1.25,2.0,2.0,2.75,3.5,5.0,2.3,1.5,1.36,1.63,5.14,3.75,2.61,2.0,3.0,1.61,2.0,4.0,3.5,3.5,4.19,5.0,2.0,2.01,2.0,2.5,3.23,2.23,2.5,6.5,1.1,3.09,3.48,3.0,2.5,2.0,2.88,4.67,2.0,3.0],\"yaxis\":\"y\"},{\"hovertemplate\":\"sex=Male<br>total_bill=%{x}<br>tip=%{y}<extra></extra>\",\"legendgroup\":\"Male\",\"marker\":{\"color\":\"#EF553B\",\"opacity\":0.65,\"symbol\":\"circle\"},\"mode\":\"markers\",\"name\":\"Male\",\"orientation\":\"v\",\"showlegend\":true,\"type\":\"scatter\",\"x\":[10.34,21.01,23.68,25.29,8.77,26.88,15.04,14.78,10.27,15.42,18.43,21.58,16.29,20.65,17.92,39.42,19.82,17.81,13.37,12.69,21.7,9.55,18.35,17.78,24.06,16.31,18.69,31.27,16.04,17.46,13.94,9.68,30.4,18.29,22.23,32.4,28.55,18.04,12.54,9.94,25.56,19.49,38.01,11.24,48.27,20.29,13.81,11.02,18.29,17.59,20.08,20.23,15.01,12.02,10.51,17.92,27.2,22.76,17.29,19.44,16.66,32.68,15.98,13.03,18.28,24.71,21.16,28.97,22.49,40.17,27.28,12.03,21.01,12.46,15.36,20.49,25.21,18.24,14.0,38.07,23.95,29.93,11.69,14.26,15.95,8.52,22.82,19.08,16.0,34.3,41.19,9.78,7.51,14.07,13.13,17.26,24.55,19.77,48.17,16.49,21.5,12.66,13.81,24.52,20.76,31.71,50.81,15.81,7.25,31.85,16.82,32.9,17.89,14.48,34.63,34.65,23.33,45.35,23.17,40.55,20.69,30.46,23.1,15.69,28.44,15.48,16.58,7.56,10.34,13.51,18.71,20.53,26.59,38.73,24.27,30.06,25.89,48.33,28.15,11.59,7.74,12.16,8.58,13.42,20.45,13.28,24.01,15.69,11.61,10.77,15.53,10.07,12.6,32.83,29.03,22.67,17.82],\"xaxis\":\"x\",\"y\":[1.66,3.5,3.31,4.71,2.0,3.12,1.96,3.23,1.71,1.57,3.0,3.92,3.71,3.35,4.08,7.58,3.18,2.34,2.0,2.0,4.3,1.45,2.5,3.27,3.6,2.0,2.31,5.0,2.24,2.54,3.06,1.32,5.6,3.0,5.0,6.0,2.05,3.0,2.5,1.56,4.34,3.51,3.0,1.76,6.73,3.21,2.0,1.98,3.76,2.64,3.15,2.01,2.09,1.97,1.25,3.08,4.0,3.0,2.71,3.0,3.4,5.0,2.03,2.0,4.0,5.85,3.0,3.0,3.5,4.73,4.0,1.5,3.0,1.5,1.64,4.06,4.29,3.76,3.0,4.0,2.55,5.07,2.31,2.5,2.0,1.48,2.18,1.5,2.0,6.7,5.0,1.73,2.0,2.5,2.0,2.74,2.0,2.0,5.0,2.0,3.5,2.5,2.0,3.48,2.24,4.5,10.0,3.16,5.15,3.18,4.0,3.11,2.0,2.0,3.55,3.68,5.65,3.5,6.5,3.0,5.0,2.0,4.0,1.5,2.56,2.02,4.0,1.44,2.0,2.0,4.0,4.0,3.41,3.0,2.03,2.0,5.16,9.0,3.0,1.5,1.44,2.2,1.92,1.58,3.0,2.72,2.0,3.0,3.39,1.47,3.0,1.25,1.0,1.17,5.92,2.0,1.75],\"yaxis\":\"y\"},{\"name\":\"Weights: Uniform\",\"type\":\"scatter\",\"x\":[3.07,3.552222222222222,4.0344444444444445,4.516666666666667,4.998888888888889,5.481111111111111,5.963333333333333,6.445555555555556,6.927777777777777,7.41,7.892222222222221,8.374444444444444,8.856666666666667,9.338888888888889,9.821111111111112,10.303333333333333,10.785555555555556,11.267777777777779,11.75,12.232222222222223,12.714444444444444,13.196666666666667,13.678888888888888,14.161111111111111,14.643333333333334,15.125555555555556,15.607777777777779,16.09,16.572222222222223,17.054444444444442,17.536666666666665,18.01888888888889,18.50111111111111,18.983333333333334,19.465555555555557,19.947777777777777,20.43,20.912222222222223,21.394444444444446,21.876666666666665,22.358888888888888,22.84111111111111,23.323333333333334,23.805555555555557,24.287777777777777,24.77,25.252222222222223,25.734444444444446,26.21666666666667,26.698888888888888,27.18111111111111,27.663333333333334,28.145555555555557,28.627777777777776,29.11,29.592222222222222,30.074444444444445,30.55666666666667,31.038888888888888,31.52111111111111,32.00333333333333,32.48555555555556,32.967777777777776,33.449999999999996,33.93222222222222,34.41444444444444,34.89666666666667,35.37888888888889,35.861111111111114,36.343333333333334,36.82555555555555,37.30777777777778,37.79,38.272222222222226,38.754444444444445,39.236666666666665,39.71888888888889,40.20111111111111,40.68333333333333,41.16555555555556,41.647777777777776,42.13,42.61222222222222,43.09444444444444,43.57666666666667,44.05888888888889,44.541111111111114,45.02333333333333,45.50555555555555,45.98777777777778,46.47,46.952222222222225,47.434444444444445,47.916666666666664,48.39888888888889,48.88111111111111,49.36333333333334,49.845555555555556,50.327777777777776,50.81],\"y\":[1.7260000000000002,1.7260000000000002,1.7260000000000002,1.7260000000000002,1.7260000000000002,1.7260000000000002,1.818,1.818,1.818,1.918,1.918,1.918,1.8209999999999997,1.9060000000000001,1.9450000000000003,1.797,1.673,2.0039999999999996,2.076,1.8619999999999997,1.916,2.2159999999999997,2.341,2.5060000000000002,2.6,2.3729999999999998,2.3120000000000003,2.5780000000000003,3.02,2.947,2.7990000000000004,3.0029999999999997,3.094,2.718,3.053,2.9829999999999997,3.2659999999999996,3.4120000000000004,3.349,3.4579999999999997,3.3590000000000004,3.8560000000000003,3.444,3.604,3.135,3.7640000000000002,4.271,4.201,3.938,3.533,3.567,3.537,3.803,4.144,3.944,3.8069999999999995,4.101999999999999,3.978,3.978,3.8650000000000007,3.8650000000000007,4.226,4.189,4.276,4.458,4.325,4.325,4.125,4.397,4.397,4.397,4.485,4.535,4.515,4.515,4.498,4.498,4.248,4.131,4.131,4.131,4.131,4.131,4.331,5.204000000000001,5.204,5.204000000000001,5.204000000000001,5.446000000000001,5.446000000000001,5.446000000000001,5.446000000000001,5.446000000000001,5.446000000000001,5.446000000000001,5.446000000000001,5.446000000000001,5.446000000000001,5.446000000000001,5.446000000000001]},{\"name\":\"Weights: Distance\",\"type\":\"scatter\",\"x\":[3.07,3.552222222222222,4.0344444444444445,4.516666666666667,4.998888888888889,5.481111111111111,5.963333333333333,6.445555555555556,6.927777777777777,7.41,7.892222222222221,8.374444444444444,8.856666666666667,9.338888888888889,9.821111111111112,10.303333333333333,10.785555555555556,11.267777777777779,11.75,12.232222222222223,12.714444444444444,13.196666666666667,13.678888888888888,14.161111111111111,14.643333333333334,15.125555555555556,15.607777777777779,16.09,16.572222222222223,17.054444444444442,17.536666666666665,18.01888888888889,18.50111111111111,18.983333333333334,19.465555555555557,19.947777777777777,20.43,20.912222222222223,21.394444444444446,21.876666666666665,22.358888888888888,22.84111111111111,23.323333333333334,23.805555555555557,24.287777777777777,24.77,25.252222222222223,25.734444444444446,26.21666666666667,26.698888888888888,27.18111111111111,27.663333333333334,28.145555555555557,28.627777777777776,29.11,29.592222222222222,30.074444444444445,30.55666666666667,31.038888888888888,31.52111111111111,32.00333333333333,32.48555555555556,32.967777777777776,33.449999999999996,33.93222222222222,34.41444444444444,34.89666666666667,35.37888888888889,35.861111111111114,36.343333333333334,36.82555555555555,37.30777777777778,37.79,38.272222222222226,38.754444444444445,39.236666666666665,39.71888888888889,40.20111111111111,40.68333333333333,41.16555555555556,41.647777777777776,42.13,42.61222222222222,43.09444444444444,43.57666666666667,44.05888888888889,44.541111111111114,45.02333333333333,45.50555555555555,45.98777777777778,46.47,46.952222222222225,47.434444444444445,47.916666666666664,48.39888888888889,48.88111111111111,49.36333333333334,49.845555555555556,50.327777777777776,50.81],\"y\":[1.0,1.4163450959710786,1.558510656994564,1.616570007190273,1.6158504217837786,1.4760428938565258,1.5425230586089462,1.927689921338773,2.215299743842599,2.1706624432964485,1.7739144568317324,1.5664409061440698,1.8409376874117145,2.01563853511227,1.8264383377973636,2.028025240065103,1.5502219548496738,1.9258003409018094,2.1493978864788854,1.9624507130069857,2.0227189010282394,2.3737498529499335,2.2616820616826163,2.249569008209836,2.51490969412968,2.409291058310236,2.3695009222008614,2.421423362014379,3.5978734702730057,2.8295487809346658,2.898985496102064,3.03734087538941,2.968091909787552,2.45263733936934,3.1893967514364374,3.054355665096097,3.24935554739189,3.741061111726978,3.47680148522589,3.671355366295554,3.5210076129700343,2.8247411166838097,5.419749787103295,3.2113658036492416,2.4315567522620176,4.332924608319252,4.623847519619034,4.168166865611851,3.5161639846113926,3.315340254148736,2.166551059575697,3.6629489497940333,3.523362848838963,3.1756543473672223,4.460928649144852,4.0997168064740395,2.724129257358863,3.582638368138194,4.142426674015703,4.18243490204086,3.950475270439257,4.716484390175545,3.210280543455818,4.072182439917837,4.70278050658384,4.9825241777005065,4.848942184479672,4.723050016129829,4.655963070737826,4.488159683442829,4.300608894815647,4.176982618847257,3.84093599820823,3.8838305783403118,3.2529083967318395,5.467710443252835,5.167188944399129,4.634085670712705,3.842453689524513,4.892365847019009,4.424887631678259,4.341970007970647,4.377082143891938,4.947246719828613,4.466018314315038,3.6832888635879453,3.6312795000881732,4.061462021021381,4.040715905724092,4.838214061757563,5.34107933505339,5.7623999960616334,6.134329646751101,6.359141363843585,7.558615157258697,6.78320471136852,6.784575099345461,7.074178380871137,7.826427992494179,10.0]}],                        {\"legend\":{\"title\":{\"text\":\"sex\"},\"tracegroupgap\":0},\"margin\":{\"t\":60},\"template\":{\"data\":{\"bar\":[{\"error_x\":{\"color\":\"#2a3f5f\"},\"error_y\":{\"color\":\"#2a3f5f\"},\"marker\":{\"line\":{\"color\":\"#E5ECF6\",\"width\":0.5},\"pattern\":{\"fillmode\":\"overlay\",\"size\":10,\"solidity\":0.2}},\"type\":\"bar\"}],\"barpolar\":[{\"marker\":{\"line\":{\"color\":\"#E5ECF6\",\"width\":0.5},\"pattern\":{\"fillmode\":\"overlay\",\"size\":10,\"solidity\":0.2}},\"type\":\"barpolar\"}],\"carpet\":[{\"aaxis\":{\"endlinecolor\":\"#2a3f5f\",\"gridcolor\":\"white\",\"linecolor\":\"white\",\"minorgridcolor\":\"white\",\"startlinecolor\":\"#2a3f5f\"},\"baxis\":{\"endlinecolor\":\"#2a3f5f\",\"gridcolor\":\"white\",\"linecolor\":\"white\",\"minorgridcolor\":\"white\",\"startlinecolor\":\"#2a3f5f\"},\"type\":\"carpet\"}],\"choropleth\":[{\"colorbar\":{\"outlinewidth\":0,\"ticks\":\"\"},\"type\":\"choropleth\"}],\"contour\":[{\"colorbar\":{\"outlinewidth\":0,\"ticks\":\"\"},\"colorscale\":[[0.0,\"#0d0887\"],[0.1111111111111111,\"#46039f\"],[0.2222222222222222,\"#7201a8\"],[0.3333333333333333,\"#9c179e\"],[0.4444444444444444,\"#bd3786\"],[0.5555555555555556,\"#d8576b\"],[0.6666666666666666,\"#ed7953\"],[0.7777777777777778,\"#fb9f3a\"],[0.8888888888888888,\"#fdca26\"],[1.0,\"#f0f921\"]],\"type\":\"contour\"}],\"contourcarpet\":[{\"colorbar\":{\"outlinewidth\":0,\"ticks\":\"\"},\"type\":\"contourcarpet\"}],\"heatmap\":[{\"colorbar\":{\"outlinewidth\":0,\"ticks\":\"\"},\"colorscale\":[[0.0,\"#0d0887\"],[0.1111111111111111,\"#46039f\"],[0.2222222222222222,\"#7201a8\"],[0.3333333333333333,\"#9c179e\"],[0.4444444444444444,\"#bd3786\"],[0.5555555555555556,\"#d8576b\"],[0.6666666666666666,\"#ed7953\"],[0.7777777777777778,\"#fb9f3a\"],[0.8888888888888888,\"#fdca26\"],[1.0,\"#f0f921\"]],\"type\":\"heatmap\"}],\"heatmapgl\":[{\"colorbar\":{\"outlinewidth\":0,\"ticks\":\"\"},\"colorscale\":[[0.0,\"#0d0887\"],[0.1111111111111111,\"#46039f\"],[0.2222222222222222,\"#7201a8\"],[0.3333333333333333,\"#9c179e\"],[0.4444444444444444,\"#bd3786\"],[0.5555555555555556,\"#d8576b\"],[0.6666666666666666,\"#ed7953\"],[0.7777777777777778,\"#fb9f3a\"],[0.8888888888888888,\"#fdca26\"],[1.0,\"#f0f921\"]],\"type\":\"heatmapgl\"}],\"histogram\":[{\"marker\":{\"pattern\":{\"fillmode\":\"overlay\",\"size\":10,\"solidity\":0.2}},\"type\":\"histogram\"}],\"histogram2d\":[{\"colorbar\":{\"outlinewidth\":0,\"ticks\":\"\"},\"colorscale\":[[0.0,\"#0d0887\"],[0.1111111111111111,\"#46039f\"],[0.2222222222222222,\"#7201a8\"],[0.3333333333333333,\"#9c179e\"],[0.4444444444444444,\"#bd3786\"],[0.5555555555555556,\"#d8576b\"],[0.6666666666666666,\"#ed7953\"],[0.7777777777777778,\"#fb9f3a\"],[0.8888888888888888,\"#fdca26\"],[1.0,\"#f0f921\"]],\"type\":\"histogram2d\"}],\"histogram2dcontour\":[{\"colorbar\":{\"outlinewidth\":0,\"ticks\":\"\"},\"colorscale\":[[0.0,\"#0d0887\"],[0.1111111111111111,\"#46039f\"],[0.2222222222222222,\"#7201a8\"],[0.3333333333333333,\"#9c179e\"],[0.4444444444444444,\"#bd3786\"],[0.5555555555555556,\"#d8576b\"],[0.6666666666666666,\"#ed7953\"],[0.7777777777777778,\"#fb9f3a\"],[0.8888888888888888,\"#fdca26\"],[1.0,\"#f0f921\"]],\"type\":\"histogram2dcontour\"}],\"mesh3d\":[{\"colorbar\":{\"outlinewidth\":0,\"ticks\":\"\"},\"type\":\"mesh3d\"}],\"parcoords\":[{\"line\":{\"colorbar\":{\"outlinewidth\":0,\"ticks\":\"\"}},\"type\":\"parcoords\"}],\"pie\":[{\"automargin\":true,\"type\":\"pie\"}],\"scatter\":[{\"marker\":{\"colorbar\":{\"outlinewidth\":0,\"ticks\":\"\"}},\"type\":\"scatter\"}],\"scatter3d\":[{\"line\":{\"colorbar\":{\"outlinewidth\":0,\"ticks\":\"\"}},\"marker\":{\"colorbar\":{\"outlinewidth\":0,\"ticks\":\"\"}},\"type\":\"scatter3d\"}],\"scattercarpet\":[{\"marker\":{\"colorbar\":{\"outlinewidth\":0,\"ticks\":\"\"}},\"type\":\"scattercarpet\"}],\"scattergeo\":[{\"marker\":{\"colorbar\":{\"outlinewidth\":0,\"ticks\":\"\"}},\"type\":\"scattergeo\"}],\"scattergl\":[{\"marker\":{\"colorbar\":{\"outlinewidth\":0,\"ticks\":\"\"}},\"type\":\"scattergl\"}],\"scattermapbox\":[{\"marker\":{\"colorbar\":{\"outlinewidth\":0,\"ticks\":\"\"}},\"type\":\"scattermapbox\"}],\"scatterpolar\":[{\"marker\":{\"colorbar\":{\"outlinewidth\":0,\"ticks\":\"\"}},\"type\":\"scatterpolar\"}],\"scatterpolargl\":[{\"marker\":{\"colorbar\":{\"outlinewidth\":0,\"ticks\":\"\"}},\"type\":\"scatterpolargl\"}],\"scatterternary\":[{\"marker\":{\"colorbar\":{\"outlinewidth\":0,\"ticks\":\"\"}},\"type\":\"scatterternary\"}],\"surface\":[{\"colorbar\":{\"outlinewidth\":0,\"ticks\":\"\"},\"colorscale\":[[0.0,\"#0d0887\"],[0.1111111111111111,\"#46039f\"],[0.2222222222222222,\"#7201a8\"],[0.3333333333333333,\"#9c179e\"],[0.4444444444444444,\"#bd3786\"],[0.5555555555555556,\"#d8576b\"],[0.6666666666666666,\"#ed7953\"],[0.7777777777777778,\"#fb9f3a\"],[0.8888888888888888,\"#fdca26\"],[1.0,\"#f0f921\"]],\"type\":\"surface\"}],\"table\":[{\"cells\":{\"fill\":{\"color\":\"#EBF0F8\"},\"line\":{\"color\":\"white\"}},\"header\":{\"fill\":{\"color\":\"#C8D4E3\"},\"line\":{\"color\":\"white\"}},\"type\":\"table\"}]},\"layout\":{\"annotationdefaults\":{\"arrowcolor\":\"#2a3f5f\",\"arrowhead\":0,\"arrowwidth\":1},\"autotypenumbers\":\"strict\",\"coloraxis\":{\"colorbar\":{\"outlinewidth\":0,\"ticks\":\"\"}},\"colorscale\":{\"diverging\":[[0,\"#8e0152\"],[0.1,\"#c51b7d\"],[0.2,\"#de77ae\"],[0.3,\"#f1b6da\"],[0.4,\"#fde0ef\"],[0.5,\"#f7f7f7\"],[0.6,\"#e6f5d0\"],[0.7,\"#b8e186\"],[0.8,\"#7fbc41\"],[0.9,\"#4d9221\"],[1,\"#276419\"]],\"sequential\":[[0.0,\"#0d0887\"],[0.1111111111111111,\"#46039f\"],[0.2222222222222222,\"#7201a8\"],[0.3333333333333333,\"#9c179e\"],[0.4444444444444444,\"#bd3786\"],[0.5555555555555556,\"#d8576b\"],[0.6666666666666666,\"#ed7953\"],[0.7777777777777778,\"#fb9f3a\"],[0.8888888888888888,\"#fdca26\"],[1.0,\"#f0f921\"]],\"sequentialminus\":[[0.0,\"#0d0887\"],[0.1111111111111111,\"#46039f\"],[0.2222222222222222,\"#7201a8\"],[0.3333333333333333,\"#9c179e\"],[0.4444444444444444,\"#bd3786\"],[0.5555555555555556,\"#d8576b\"],[0.6666666666666666,\"#ed7953\"],[0.7777777777777778,\"#fb9f3a\"],[0.8888888888888888,\"#fdca26\"],[1.0,\"#f0f921\"]]},\"colorway\":[\"#636efa\",\"#EF553B\",\"#00cc96\",\"#ab63fa\",\"#FFA15A\",\"#19d3f3\",\"#FF6692\",\"#B6E880\",\"#FF97FF\",\"#FECB52\"],\"font\":{\"color\":\"#2a3f5f\"},\"geo\":{\"bgcolor\":\"white\",\"lakecolor\":\"white\",\"landcolor\":\"#E5ECF6\",\"showlakes\":true,\"showland\":true,\"subunitcolor\":\"white\"},\"hoverlabel\":{\"align\":\"left\"},\"hovermode\":\"closest\",\"mapbox\":{\"style\":\"light\"},\"paper_bgcolor\":\"white\",\"plot_bgcolor\":\"#E5ECF6\",\"polar\":{\"angularaxis\":{\"gridcolor\":\"white\",\"linecolor\":\"white\",\"ticks\":\"\"},\"bgcolor\":\"#E5ECF6\",\"radialaxis\":{\"gridcolor\":\"white\",\"linecolor\":\"white\",\"ticks\":\"\"}},\"scene\":{\"xaxis\":{\"backgroundcolor\":\"#E5ECF6\",\"gridcolor\":\"white\",\"gridwidth\":2,\"linecolor\":\"white\",\"showbackground\":true,\"ticks\":\"\",\"zerolinecolor\":\"white\"},\"yaxis\":{\"backgroundcolor\":\"#E5ECF6\",\"gridcolor\":\"white\",\"gridwidth\":2,\"linecolor\":\"white\",\"showbackground\":true,\"ticks\":\"\",\"zerolinecolor\":\"white\"},\"zaxis\":{\"backgroundcolor\":\"#E5ECF6\",\"gridcolor\":\"white\",\"gridwidth\":2,\"linecolor\":\"white\",\"showbackground\":true,\"ticks\":\"\",\"zerolinecolor\":\"white\"}},\"shapedefaults\":{\"line\":{\"color\":\"#2a3f5f\"}},\"ternary\":{\"aaxis\":{\"gridcolor\":\"white\",\"linecolor\":\"white\",\"ticks\":\"\"},\"baxis\":{\"gridcolor\":\"white\",\"linecolor\":\"white\",\"ticks\":\"\"},\"bgcolor\":\"#E5ECF6\",\"caxis\":{\"gridcolor\":\"white\",\"linecolor\":\"white\",\"ticks\":\"\"}},\"title\":{\"x\":0.05},\"xaxis\":{\"automargin\":true,\"gridcolor\":\"white\",\"linecolor\":\"white\",\"ticks\":\"\",\"title\":{\"standoff\":15},\"zerolinecolor\":\"white\",\"zerolinewidth\":2},\"yaxis\":{\"automargin\":true,\"gridcolor\":\"white\",\"linecolor\":\"white\",\"ticks\":\"\",\"title\":{\"standoff\":15},\"zerolinecolor\":\"white\",\"zerolinewidth\":2}}},\"xaxis\":{\"anchor\":\"y\",\"domain\":[0.0,1.0],\"title\":{\"text\":\"total_bill\"}},\"yaxis\":{\"anchor\":\"x\",\"domain\":[0.0,1.0],\"title\":{\"text\":\"tip\"}}},                        {\"responsive\": true}                    ).then(function(){\n",
              "                            \n",
              "var gd = document.getElementById('4c06e926-7314-4eb9-b62a-2d50031804e2');\n",
              "var x = new MutationObserver(function (mutations, observer) {{\n",
              "        var display = window.getComputedStyle(gd).display;\n",
              "        if (!display || display === 'none') {{\n",
              "            console.log([gd, 'removed!']);\n",
              "            Plotly.purge(gd);\n",
              "            observer.disconnect();\n",
              "        }}\n",
              "}});\n",
              "\n",
              "// Listen for the removal of the full notebook cells\n",
              "var notebookContainer = gd.closest('#notebook-container');\n",
              "if (notebookContainer) {{\n",
              "    x.observe(notebookContainer, {childList: true});\n",
              "}}\n",
              "\n",
              "// Listen for the clearing of the current output cell\n",
              "var outputEl = gd.closest('.output');\n",
              "if (outputEl) {{\n",
              "    x.observe(outputEl, {childList: true});\n",
              "}}\n",
              "\n",
              "                        })                };                });            </script>        </div>"
            ]
          },
          "metadata": {},
          "output_type": "display_data"
        }
      ],
      "source": [
        "import numpy as np\n",
        "import plotly.express as px\n",
        "import plotly.graph_objects as go\n",
        "from sklearn.neighbors import KNeighborsRegressor\n",
        "\n",
        "df = px.data.tips()\n",
        "X = df.total_bill.values.reshape(-1, 1)\n",
        "x_range = np.linspace(X.min(), X.max(), 100)\n",
        "\n",
        "# Model #1\n",
        "knn_dist = KNeighborsRegressor(10, weights='distance')\n",
        "knn_dist.fit(X, df.tip)\n",
        "y_dist = knn_dist.predict(x_range.reshape(-1, 1))\n",
        "\n",
        "# Model #2\n",
        "knn_uni = KNeighborsRegressor(10, weights='uniform')\n",
        "knn_uni.fit(X, df.tip)\n",
        "y_uni = knn_uni.predict(x_range.reshape(-1, 1))\n",
        "\n",
        "fig = px.scatter(df, x='total_bill', y='tip', color='sex', opacity=0.65)\n",
        "fig.add_traces(go.Scatter(x=x_range, y=y_uni, name='Weights: Uniform'))\n",
        "fig.add_traces(go.Scatter(x=x_range, y=y_dist, name='Weights: Distance'))\n",
        "fig.show()"
      ]
    },
    {
      "cell_type": "code",
      "execution_count": null,
      "metadata": {},
      "outputs": [],
      "source": [
        "await micropip.install('plotly')"
      ]
    },
    {
      "cell_type": "code",
      "execution_count": null,
      "metadata": {},
      "outputs": [],
      "source": [
        "import micropip"
      ]
    },
    {
      "cell_type": "code",
      "execution_count": null,
      "metadata": {},
      "outputs": [],
      "source": []
    }
  ],
  "metadata": {
    "colab": {
      "collapsed_sections": [],
      "name": "Overview of Colaboratory Features",
      "provenance": [],
      "toc_visible": true
    },
    "kernelspec": {
      "display_name": "Python 3",
      "name": "python3"
    },
    "language_info": {
      "codemirror_mode": {
        "name": "ipython",
        "version": 3
      },
      "file_extension": ".py",
      "mimetype": "text/x-python",
      "name": "python",
      "nbconvert_exporter": "python",
      "pygments_lexer": "ipython3",
      "version": "3.8.5"
    }
  },
  "nbformat": 4,
  "nbformat_minor": 0
}
